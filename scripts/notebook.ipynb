{
 "cells": [
  {
   "cell_type": "code",
   "execution_count": 1,
   "metadata": {},
   "outputs": [],
   "source": [
    "%load_ext autoreload\n",
    "%autoreload 2"
   ]
  },
  {
   "cell_type": "code",
   "execution_count": 15,
   "metadata": {},
   "outputs": [],
   "source": [
    "from torch_geometric.data import LightningDataset\n",
    "from routing.datasets import DijkstraDataset\n",
    "\n",
    "dataset = DijkstraDataset(\"../data\")\n",
    "dm = LightningDataset(dataset[:100], batch_size=100)\n",
    "data = list(dm.train_dataloader())\n",
    "# dataset.process()"
   ]
  },
  {
   "cell_type": "code",
   "execution_count": 55,
   "metadata": {},
   "outputs": [
    {
     "ename": "RuntimeError",
     "evalue": "mat1 and mat2 shapes cannot be multiplied (10x10 and 1x32)",
     "output_type": "error",
     "traceback": [
      "\u001b[0;31m---------------------------------------------------------------------------\u001b[0m",
      "\u001b[0;31mRuntimeError\u001b[0m                              Traceback (most recent call last)",
      "\u001b[1;32m/home/damow/projects/routing/scripts/notebook.ipynb Cell 3'\u001b[0m in \u001b[0;36m<module>\u001b[0;34m\u001b[0m\n\u001b[1;32m      <a href='vscode-notebook-cell:/home/damow/projects/routing/scripts/notebook.ipynb#ch0000005?line=1'>2</a>\u001b[0m \u001b[39mimport\u001b[39;00m \u001b[39mtorch\u001b[39;00m\n\u001b[1;32m      <a href='vscode-notebook-cell:/home/damow/projects/routing/scripts/notebook.ipynb#ch0000005?line=3'>4</a>\u001b[0m gnn \u001b[39m=\u001b[39m DeepGNN()\n\u001b[0;32m----> <a href='vscode-notebook-cell:/home/damow/projects/routing/scripts/notebook.ipynb#ch0000005?line=4'>5</a>\u001b[0m gnn\u001b[39m.\u001b[39;49mlayers[\u001b[39m0\u001b[39;49m](dataset[\u001b[39m0\u001b[39;49m]\u001b[39m.\u001b[39;49mx\u001b[39m.\u001b[39;49mview(\u001b[39m-\u001b[39;49m\u001b[39m1\u001b[39;49m, \u001b[39m10\u001b[39;49m, \u001b[39m10\u001b[39;49m), dataset[\u001b[39m0\u001b[39;49m]\u001b[39m.\u001b[39;49medge_index, dataset[\u001b[39m0\u001b[39;49m]\u001b[39m.\u001b[39;49medge_attr)\n",
      "File \u001b[0;32m~/.pyenv/versions/3.9.9/envs/routing/lib/python3.9/site-packages/torch/nn/modules/module.py:1102\u001b[0m, in \u001b[0;36mModule._call_impl\u001b[0;34m(self, *input, **kwargs)\u001b[0m\n\u001b[1;32m   <a href='file:///~/.pyenv/versions/3.9.9/envs/routing/lib/python3.9/site-packages/torch/nn/modules/module.py?line=1097'>1098</a>\u001b[0m \u001b[39m# If we don't have any hooks, we want to skip the rest of the logic in\u001b[39;00m\n\u001b[1;32m   <a href='file:///~/.pyenv/versions/3.9.9/envs/routing/lib/python3.9/site-packages/torch/nn/modules/module.py?line=1098'>1099</a>\u001b[0m \u001b[39m# this function, and just call forward.\u001b[39;00m\n\u001b[1;32m   <a href='file:///~/.pyenv/versions/3.9.9/envs/routing/lib/python3.9/site-packages/torch/nn/modules/module.py?line=1099'>1100</a>\u001b[0m \u001b[39mif\u001b[39;00m \u001b[39mnot\u001b[39;00m (\u001b[39mself\u001b[39m\u001b[39m.\u001b[39m_backward_hooks \u001b[39mor\u001b[39;00m \u001b[39mself\u001b[39m\u001b[39m.\u001b[39m_forward_hooks \u001b[39mor\u001b[39;00m \u001b[39mself\u001b[39m\u001b[39m.\u001b[39m_forward_pre_hooks \u001b[39mor\u001b[39;00m _global_backward_hooks\n\u001b[1;32m   <a href='file:///~/.pyenv/versions/3.9.9/envs/routing/lib/python3.9/site-packages/torch/nn/modules/module.py?line=1100'>1101</a>\u001b[0m         \u001b[39mor\u001b[39;00m _global_forward_hooks \u001b[39mor\u001b[39;00m _global_forward_pre_hooks):\n\u001b[0;32m-> <a href='file:///~/.pyenv/versions/3.9.9/envs/routing/lib/python3.9/site-packages/torch/nn/modules/module.py?line=1101'>1102</a>\u001b[0m     \u001b[39mreturn\u001b[39;00m forward_call(\u001b[39m*\u001b[39;49m\u001b[39minput\u001b[39;49m, \u001b[39m*\u001b[39;49m\u001b[39m*\u001b[39;49mkwargs)\n\u001b[1;32m   <a href='file:///~/.pyenv/versions/3.9.9/envs/routing/lib/python3.9/site-packages/torch/nn/modules/module.py?line=1102'>1103</a>\u001b[0m \u001b[39m# Do not call functions when jit is used\u001b[39;00m\n\u001b[1;32m   <a href='file:///~/.pyenv/versions/3.9.9/envs/routing/lib/python3.9/site-packages/torch/nn/modules/module.py?line=1103'>1104</a>\u001b[0m full_backward_hooks, non_full_backward_hooks \u001b[39m=\u001b[39m [], []\n",
      "File \u001b[0;32m~/.pyenv/versions/3.9.9/envs/routing/lib/python3.9/site-packages/torch_geometric/nn/conv/tag_conv.py:70\u001b[0m, in \u001b[0;36mTAGConv.forward\u001b[0;34m(self, x, edge_index, edge_weight)\u001b[0m\n\u001b[1;32m     <a href='file:///~/.pyenv/versions/3.9.9/envs/routing/lib/python3.9/site-packages/torch_geometric/nn/conv/tag_conv.py?line=64'>65</a>\u001b[0m     \u001b[39melif\u001b[39;00m \u001b[39misinstance\u001b[39m(edge_index, SparseTensor):\n\u001b[1;32m     <a href='file:///~/.pyenv/versions/3.9.9/envs/routing/lib/python3.9/site-packages/torch_geometric/nn/conv/tag_conv.py?line=65'>66</a>\u001b[0m         edge_index \u001b[39m=\u001b[39m gcn_norm(  \u001b[39m# yapf: disable\u001b[39;00m\n\u001b[1;32m     <a href='file:///~/.pyenv/versions/3.9.9/envs/routing/lib/python3.9/site-packages/torch_geometric/nn/conv/tag_conv.py?line=66'>67</a>\u001b[0m             edge_index, edge_weight, x\u001b[39m.\u001b[39msize(\u001b[39mself\u001b[39m\u001b[39m.\u001b[39mnode_dim),\n\u001b[1;32m     <a href='file:///~/.pyenv/versions/3.9.9/envs/routing/lib/python3.9/site-packages/torch_geometric/nn/conv/tag_conv.py?line=67'>68</a>\u001b[0m             add_self_loops\u001b[39m=\u001b[39m\u001b[39mFalse\u001b[39;00m, dtype\u001b[39m=\u001b[39mx\u001b[39m.\u001b[39mdtype)\n\u001b[0;32m---> <a href='file:///~/.pyenv/versions/3.9.9/envs/routing/lib/python3.9/site-packages/torch_geometric/nn/conv/tag_conv.py?line=69'>70</a>\u001b[0m out \u001b[39m=\u001b[39m \u001b[39mself\u001b[39;49m\u001b[39m.\u001b[39;49mlins[\u001b[39m0\u001b[39;49m](x)\n\u001b[1;32m     <a href='file:///~/.pyenv/versions/3.9.9/envs/routing/lib/python3.9/site-packages/torch_geometric/nn/conv/tag_conv.py?line=70'>71</a>\u001b[0m \u001b[39mfor\u001b[39;00m lin \u001b[39min\u001b[39;00m \u001b[39mself\u001b[39m\u001b[39m.\u001b[39mlins[\u001b[39m1\u001b[39m:]:\n\u001b[1;32m     <a href='file:///~/.pyenv/versions/3.9.9/envs/routing/lib/python3.9/site-packages/torch_geometric/nn/conv/tag_conv.py?line=71'>72</a>\u001b[0m     \u001b[39m# propagate_type: (x: Tensor, edge_weight: OptTensor)\u001b[39;00m\n\u001b[1;32m     <a href='file:///~/.pyenv/versions/3.9.9/envs/routing/lib/python3.9/site-packages/torch_geometric/nn/conv/tag_conv.py?line=72'>73</a>\u001b[0m     x \u001b[39m=\u001b[39m \u001b[39mself\u001b[39m\u001b[39m.\u001b[39mpropagate(edge_index, x\u001b[39m=\u001b[39mx, edge_weight\u001b[39m=\u001b[39medge_weight,\n\u001b[1;32m     <a href='file:///~/.pyenv/versions/3.9.9/envs/routing/lib/python3.9/site-packages/torch_geometric/nn/conv/tag_conv.py?line=73'>74</a>\u001b[0m                        size\u001b[39m=\u001b[39m\u001b[39mNone\u001b[39;00m)\n",
      "File \u001b[0;32m~/.pyenv/versions/3.9.9/envs/routing/lib/python3.9/site-packages/torch/nn/modules/module.py:1102\u001b[0m, in \u001b[0;36mModule._call_impl\u001b[0;34m(self, *input, **kwargs)\u001b[0m\n\u001b[1;32m   <a href='file:///~/.pyenv/versions/3.9.9/envs/routing/lib/python3.9/site-packages/torch/nn/modules/module.py?line=1097'>1098</a>\u001b[0m \u001b[39m# If we don't have any hooks, we want to skip the rest of the logic in\u001b[39;00m\n\u001b[1;32m   <a href='file:///~/.pyenv/versions/3.9.9/envs/routing/lib/python3.9/site-packages/torch/nn/modules/module.py?line=1098'>1099</a>\u001b[0m \u001b[39m# this function, and just call forward.\u001b[39;00m\n\u001b[1;32m   <a href='file:///~/.pyenv/versions/3.9.9/envs/routing/lib/python3.9/site-packages/torch/nn/modules/module.py?line=1099'>1100</a>\u001b[0m \u001b[39mif\u001b[39;00m \u001b[39mnot\u001b[39;00m (\u001b[39mself\u001b[39m\u001b[39m.\u001b[39m_backward_hooks \u001b[39mor\u001b[39;00m \u001b[39mself\u001b[39m\u001b[39m.\u001b[39m_forward_hooks \u001b[39mor\u001b[39;00m \u001b[39mself\u001b[39m\u001b[39m.\u001b[39m_forward_pre_hooks \u001b[39mor\u001b[39;00m _global_backward_hooks\n\u001b[1;32m   <a href='file:///~/.pyenv/versions/3.9.9/envs/routing/lib/python3.9/site-packages/torch/nn/modules/module.py?line=1100'>1101</a>\u001b[0m         \u001b[39mor\u001b[39;00m _global_forward_hooks \u001b[39mor\u001b[39;00m _global_forward_pre_hooks):\n\u001b[0;32m-> <a href='file:///~/.pyenv/versions/3.9.9/envs/routing/lib/python3.9/site-packages/torch/nn/modules/module.py?line=1101'>1102</a>\u001b[0m     \u001b[39mreturn\u001b[39;00m forward_call(\u001b[39m*\u001b[39;49m\u001b[39minput\u001b[39;49m, \u001b[39m*\u001b[39;49m\u001b[39m*\u001b[39;49mkwargs)\n\u001b[1;32m   <a href='file:///~/.pyenv/versions/3.9.9/envs/routing/lib/python3.9/site-packages/torch/nn/modules/module.py?line=1102'>1103</a>\u001b[0m \u001b[39m# Do not call functions when jit is used\u001b[39;00m\n\u001b[1;32m   <a href='file:///~/.pyenv/versions/3.9.9/envs/routing/lib/python3.9/site-packages/torch/nn/modules/module.py?line=1103'>1104</a>\u001b[0m full_backward_hooks, non_full_backward_hooks \u001b[39m=\u001b[39m [], []\n",
      "File \u001b[0;32m~/.pyenv/versions/3.9.9/envs/routing/lib/python3.9/site-packages/torch_geometric/nn/dense/linear.py:109\u001b[0m, in \u001b[0;36mLinear.forward\u001b[0;34m(self, x)\u001b[0m\n\u001b[1;32m    <a href='file:///~/.pyenv/versions/3.9.9/envs/routing/lib/python3.9/site-packages/torch_geometric/nn/dense/linear.py?line=106'>107</a>\u001b[0m \u001b[39mdef\u001b[39;00m \u001b[39mforward\u001b[39m(\u001b[39mself\u001b[39m, x: Tensor) \u001b[39m-\u001b[39m\u001b[39m>\u001b[39m Tensor:\n\u001b[1;32m    <a href='file:///~/.pyenv/versions/3.9.9/envs/routing/lib/python3.9/site-packages/torch_geometric/nn/dense/linear.py?line=107'>108</a>\u001b[0m     \u001b[39m\"\"\"\"\"\"\u001b[39;00m\n\u001b[0;32m--> <a href='file:///~/.pyenv/versions/3.9.9/envs/routing/lib/python3.9/site-packages/torch_geometric/nn/dense/linear.py?line=108'>109</a>\u001b[0m     \u001b[39mreturn\u001b[39;00m F\u001b[39m.\u001b[39;49mlinear(x, \u001b[39mself\u001b[39;49m\u001b[39m.\u001b[39;49mweight, \u001b[39mself\u001b[39;49m\u001b[39m.\u001b[39;49mbias)\n",
      "File \u001b[0;32m~/.pyenv/versions/3.9.9/envs/routing/lib/python3.9/site-packages/torch/nn/functional.py:1848\u001b[0m, in \u001b[0;36mlinear\u001b[0;34m(input, weight, bias)\u001b[0m\n\u001b[1;32m   <a href='file:///~/.pyenv/versions/3.9.9/envs/routing/lib/python3.9/site-packages/torch/nn/functional.py?line=1845'>1846</a>\u001b[0m \u001b[39mif\u001b[39;00m has_torch_function_variadic(\u001b[39minput\u001b[39m, weight, bias):\n\u001b[1;32m   <a href='file:///~/.pyenv/versions/3.9.9/envs/routing/lib/python3.9/site-packages/torch/nn/functional.py?line=1846'>1847</a>\u001b[0m     \u001b[39mreturn\u001b[39;00m handle_torch_function(linear, (\u001b[39minput\u001b[39m, weight, bias), \u001b[39minput\u001b[39m, weight, bias\u001b[39m=\u001b[39mbias)\n\u001b[0;32m-> <a href='file:///~/.pyenv/versions/3.9.9/envs/routing/lib/python3.9/site-packages/torch/nn/functional.py?line=1847'>1848</a>\u001b[0m \u001b[39mreturn\u001b[39;00m torch\u001b[39m.\u001b[39;49m_C\u001b[39m.\u001b[39;49m_nn\u001b[39m.\u001b[39;49mlinear(\u001b[39minput\u001b[39;49m, weight, bias)\n",
      "\u001b[0;31mRuntimeError\u001b[0m: mat1 and mat2 shapes cannot be multiplied (10x10 and 1x32)"
     ]
    }
   ],
   "source": [
    "from routing.models import DeepGNN\n",
    "import torch\n",
    "\n",
    "gnn = DeepGNN()\n",
    "gnn.layers[0](dataset[0].x.view(-1, 10, 10), dataset[0].edge_index, dataset[0].edge_attr)"
   ]
  }
 ],
 "metadata": {
  "interpreter": {
   "hash": "cad1bed223f5b0b050ddbce867e20420bb8b50a09d58dd5a08f19c6b14dce5df"
  },
  "kernelspec": {
   "display_name": "Python 3.9.9 64-bit ('routing')",
   "language": "python",
   "name": "python3"
  },
  "language_info": {
   "codemirror_mode": {
    "name": "ipython",
    "version": 3
   },
   "file_extension": ".py",
   "mimetype": "text/x-python",
   "name": "python",
   "nbconvert_exporter": "python",
   "pygments_lexer": "ipython3",
   "version": "3.9.9"
  },
  "orig_nbformat": 4
 },
 "nbformat": 4,
 "nbformat_minor": 2
}
